print('hi')

import numpy as np

array=np.zeros(10)
print(array)


array=np.ones(10)
print(array)

array=np.ones(10)*5
print(array)


array=np.arange(10,51)
print(array)

array=np.arange(10,51,2)
print(array) 

x =  np.arange(0, 9).reshape(3,3)
print(x)

y = np.eye(3)
print(y)

x=np.random.random(1)[0]
print(x)

rand_num = np.random.normal(0,1,25)
print(rand_num)

b=np.arange(0.01, 1.01, 0.01)
c=b.reshape(10,10)
print (c)

# это наша стартовая матрица
import numpy as np
mat = np.arange(1,26).reshape(5,5)
print (mat)

mat = np.arange(1,26).reshape(5,5)

a=mat[2:5, 1:5]
print (a)

mat = np.arange(1,26).reshape(5,5)

a=mat[3:4, 4:5]
print (a)

mat = np.arange(1,26).reshape(5,5)

a=mat[0:3, 1:2]
print (a)

mat = np.arange(1,26).reshape(5,5)

a=mat[4:5, 0:5]
print (a)

mat = np.arange(1,26).reshape(5,5)

a=mat[3:5, 0:5]
print (a)

mat = np.arange(1,26).reshape(5,5)

a = np.sum(mat)
print (a)

mat = np.arange(1,26).reshape(5,5)

print(np.std(mat))


mat = np.arange(1,26).reshape(5,5)
mat.sum(axis=0)
